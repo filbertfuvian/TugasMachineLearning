{
  "metadata": {
    "kernelspec": {
      "display_name": "Python 3",
      "language": "python",
      "name": "python3"
    },
    "language_info": {
      "name": "python",
      "version": "3.10.12",
      "mimetype": "text/x-python",
      "codemirror_mode": {
        "name": "ipython",
        "version": 3
      },
      "pygments_lexer": "ipython3",
      "nbconvert_exporter": "python",
      "file_extension": ".py"
    },
    "colab": {
      "provenance": []
    }
  },
  "nbformat_minor": 0,
  "nbformat": 4,
  "cells": [
    {
      "cell_type": "markdown",
      "source": [
        "# IF3070 Foundations of Artificial Intelligence | Tugas Besar 2\n",
        "\n",
        "This notebook serves as a template for the assignment. Please create a copy of this notebook to complete your work. You can add more code blocks, markdown blocks, or new sections if needed.\n"
      ],
      "metadata": {
        "id": "uR1JW69eLfG_"
      }
    },
    {
      "cell_type": "markdown",
      "source": [
        "Group Number: 04\n",
        "\n",
        "Group Members:\n",
        "- Rashid May (18222014)\n",
        "- Lutfi Khairul Amal (18222018)\n",
        "- Filbert Fuvian (18222024)\n",
        "- Qady Zaka Raymaula (18222038)"
      ],
      "metadata": {
        "id": "ucbaI5rBLtjJ"
      }
    },
    {
      "cell_type": "markdown",
      "source": [
        "## Import Libraries"
      ],
      "metadata": {
        "id": "GwzsfETHLfHA"
      }
    },
    {
      "cell_type": "code",
      "source": [
        "import pandas as pd\n",
        "import numpy as np\n",
        "import pickle\n",
        "from sklearn.metrics import accuracy_score\n",
        "from sklearn.model_selection import train_test_split\n",
        "from sklearn.impute import SimpleImputer\n",
        "from sklearn.base import BaseEstimator, TransformerMixin\n",
        "from sklearn.preprocessing import StandardScaler, OneHotEncoder\n",
        "from sklearn.pipeline import Pipeline\n",
        "%pip install imbalanced-learn\n",
        "from imblearn.over_sampling import SMOTE"
      ],
      "metadata": {
        "id": "jZJU5W_4LfHB",
        "colab": {
          "base_uri": "https://localhost:8080/"
        },
        "outputId": "bfafcbfa-de51-43a5-fc84-45923a4ee1b5"
      },
      "execution_count": 20,
      "outputs": [
        {
          "output_type": "stream",
          "name": "stdout",
          "text": [
            "Requirement already satisfied: imbalanced-learn in /usr/local/lib/python3.10/dist-packages (0.12.4)\n",
            "Requirement already satisfied: numpy>=1.17.3 in /usr/local/lib/python3.10/dist-packages (from imbalanced-learn) (1.26.4)\n",
            "Requirement already satisfied: scipy>=1.5.0 in /usr/local/lib/python3.10/dist-packages (from imbalanced-learn) (1.13.1)\n",
            "Requirement already satisfied: scikit-learn>=1.0.2 in /usr/local/lib/python3.10/dist-packages (from imbalanced-learn) (1.6.0)\n",
            "Requirement already satisfied: joblib>=1.1.1 in /usr/local/lib/python3.10/dist-packages (from imbalanced-learn) (1.4.2)\n",
            "Requirement already satisfied: threadpoolctl>=2.0.0 in /usr/local/lib/python3.10/dist-packages (from imbalanced-learn) (3.5.0)\n"
          ]
        }
      ]
    },
    {
      "cell_type": "markdown",
      "source": [
        "## Import Dataset"
      ],
      "metadata": {
        "id": "OKbjLIdYLfHC"
      }
    },
    {
      "cell_type": "code",
      "source": [
        "df = pd.read_csv('https://drive.google.com/uc?id=14c4AEgg4ePy7ztmp1DapbNcjYvOKu7pq')\n",
        "\n",
        "binary_features = ['IsDomainIP', 'HasObfuscation', 'IsHTTPS', 'HasTitle', 'HasFavicon',\n",
        "                   'Robots', 'IsResponsive', 'HasDescription', 'HasExternalFormSubmit',\n",
        "                   'HasSocialNet', 'HasSubmitButton', 'HasHiddenFields', 'HasPasswordField',\n",
        "                   'Bank', 'Pay', 'Crypto', 'HasCopyrightInfo']\n",
        "\n",
        "numerical_features = ['URLLength', 'DomainLength', 'CharContinuationRate', 'TLDLegitimateProb',\n",
        "                      'URLCharProb', 'TLDLength', 'NoOfSubDomain', 'NoOfObfuscatedChar',\n",
        "                      'ObfuscationRatio', 'NoOfLettersInURL', 'LetterRatioInURL', 'NoOfDegitsInURL',\n",
        "                      'DegitRatioInURL', 'NoOfEqualsInURL', 'NoOfQMarkInURL', 'NoOfAmpersandInURL',\n",
        "                      'NoOfOtherSpecialCharsInURL', 'SpacialCharRatioInURL', 'LineOfCode',\n",
        "                      'LargestLineLength', 'DomainTitleMatchScore', 'URLTitleMatchScore',\n",
        "                      'NoOfURLRedirect', 'NoOfSelfRedirect', 'NoOfPopup', 'NoOfiFrame',\n",
        "                      'NoOfImage', 'NoOfCSS', 'NoOfJS', 'NoOfSelfRef', 'NoOfEmptyRef',\n",
        "                      'NoOfExternalRef']\n",
        "\n",
        "categorical_features = ['FILENAME', 'URL', 'Domain', 'TLD', 'Title']"
      ],
      "metadata": {
        "id": "-IWFJ-gdLfHD"
      },
      "execution_count": 2,
      "outputs": []
    },
    {
      "cell_type": "markdown",
      "source": [
        "# 1. Split Training Set and Validation Set\n",
        "\n",
        "Splitting the training and validation set works as an early diagnostic towards the performance of the model we train. This is done before the preprocessing steps to **avoid data leakage inbetween the sets**. If you want to use k-fold cross-validation, split the data later and do the cleaning and preprocessing separately for each split.\n",
        "\n",
        "Note: For training, you should use the data contained in the `train` folder given by the TA. The `test` data is only used for kaggle submission."
      ],
      "metadata": {
        "id": "gvx-gT3bLfHM"
      }
    },
    {
      "cell_type": "code",
      "source": [
        "train_set, val_set = train_test_split(df, test_size=0.2, random_state=42)"
      ],
      "metadata": {
        "id": "4yWCUFFBLfHM"
      },
      "execution_count": 3,
      "outputs": []
    },
    {
      "cell_type": "markdown",
      "source": [
        "# 2. Data Cleaning and Preprocessing\n",
        "\n",
        "This step is the first thing to be done once a Data Scientist have grasped a general knowledge of the data. Raw data is **seldom ready for training**, therefore steps need to be taken to clean and format the data for the Machine Learning model to interpret.\n",
        "\n",
        "By performing data cleaning and preprocessing, you ensure that your dataset is ready for model training, leading to more accurate and reliable machine learning results. These steps are essential for transforming raw data into a format that machine learning algorithms can effectively learn from and make predictions.\n",
        "\n",
        "We will give some common methods for you to try, but you only have to **at least implement one method for each process**. For each step that you will do, **please explain the reason why did you do that process. Write it in a markdown cell under the code cell you wrote.**"
      ],
      "metadata": {
        "id": "IC14lmo_LfHN"
      }
    },
    {
      "cell_type": "markdown",
      "source": [
        "## A. Data Cleaning\n",
        "\n",
        "**Data cleaning** is the crucial first step in preparing your dataset for machine learning. Raw data collected from various sources is often messy and may contain errors, missing values, and inconsistencies. Data cleaning involves the following steps:\n",
        "\n",
        "1. **Handling Missing Data:** Identify and address missing values in the dataset. This can include imputing missing values, removing rows or columns with excessive missing data, or using more advanced techniques like interpolation.\n",
        "\n",
        "2. **Dealing with Outliers:** Identify and handle outliers, which are data points significantly different from the rest of the dataset. Outliers can be removed or transformed to improve model performance.\n",
        "\n",
        "3. **Data Validation:** Check for data integrity and consistency. Ensure that data types are correct, categorical variables have consistent labels, and numerical values fall within expected ranges.\n",
        "\n",
        "4. **Removing Duplicates:** Identify and remove duplicate rows, as they can skew the model's training process and evaluation metrics.\n",
        "\n",
        "5. **Feature Engineering**: Create new features or modify existing ones to extract relevant information. This step can involve scaling, normalizing, or encoding features for better model interpretability."
      ],
      "metadata": {
        "id": "p95_A8hSLfHY"
      }
    },
    {
      "cell_type": "markdown",
      "source": [
        "### I. Handling Missing Data\n",
        "\n",
        "Missing data can adversely affect the performance and accuracy of machine learning models. There are several strategies to handle missing data in machine learning:\n",
        "\n",
        "1. **Data Imputation:**\n",
        "\n",
        "    a. **Mean, Median, or Mode Imputation:** For numerical features, you can replace missing values with the mean, median, or mode of the non-missing values in the same feature. This method is simple and often effective when data is missing at random.\n",
        "\n",
        "    b. **Constant Value Imputation:** You can replace missing values with a predefined constant value (e.g., 0) if it makes sense for your dataset and problem.\n",
        "\n",
        "    c. **Imputation Using Predictive Models:** More advanced techniques involve using predictive models to estimate missing values. For example, you can train a regression model to predict missing numerical values or a classification model to predict missing categorical values.\n",
        "\n",
        "2. **Deletion of Missing Data:**\n",
        "\n",
        "    a. **Listwise Deletion:** In cases where the amount of missing data is relatively small, you can simply remove rows with missing values from your dataset. However, this approach can lead to a loss of valuable information.\n",
        "\n",
        "    b. **Column (Feature) Deletion:** If a feature has a large number of missing values and is not critical for your analysis, you can consider removing that feature altogether.\n",
        "\n",
        "3. **Domain-Specific Strategies:**\n",
        "\n",
        "    a. **Domain Knowledge:** In some cases, domain knowledge can guide the imputation process. For example, if you know that missing values are related to a specific condition, you can impute them accordingly.\n",
        "\n",
        "4. **Imputation Libraries:**\n",
        "\n",
        "    a. **Scikit-Learn:** Scikit-Learn provides a `SimpleImputer` class that can handle basic imputation strategies like mean, median, and mode imputation.\n",
        "\n",
        "    b. **Fancyimpute:** Fancyimpute is a Python library that offers more advanced imputation techniques, including matrix factorization, k-nearest neighbors, and deep learning-based methods.\n",
        "\n",
        "The choice of imputation method should be guided by the nature of your data, the amount of missing data, the problem you are trying to solve, and the assumptions you are willing to make."
      ],
      "metadata": {
        "id": "_wruGao9LfHZ"
      }
    },
    {
      "cell_type": "code",
      "source": [
        "binary_imputer = SimpleImputer(strategy='constant', fill_value=0)\n",
        "train_set[binary_features] = binary_imputer.fit_transform(train_set[binary_features])\n",
        "val_set[binary_features] = binary_imputer.transform(val_set[binary_features])\n",
        "\n",
        "\n",
        "numerical_imputer = SimpleImputer(strategy='median')\n",
        "train_set[numerical_features] = numerical_imputer.fit_transform(train_set[numerical_features])\n",
        "val_set[numerical_features] = numerical_imputer.transform(val_set[numerical_features])\n",
        "\n",
        "\n",
        "train_set[categorical_features] = train_set[categorical_features].fillna('Unknown')\n",
        "val_set[categorical_features] = val_set[categorical_features].fillna('Unknown')"
      ],
      "metadata": {
        "id": "ucZNfCkiLfHZ"
      },
      "execution_count": 4,
      "outputs": []
    },
    {
      "cell_type": "markdown",
      "source": [
        "### II. Dealing with Outliers\n",
        "\n",
        "Outliers are data points that significantly differ from the majority of the data. They can be unusually high or low values that do not fit the pattern of the rest of the dataset. Outliers can significantly impact model performance, so it is important to handle them properly.\n",
        "\n",
        "Some methods to handle outliers:\n",
        "1. **Imputation**: Replace with mean, median, or a boundary value.\n",
        "2. **Clipping**: Cap values to upper and lower limits.\n",
        "3. **Transformation**: Use log, square root, or power transformations to reduce their influence.\n",
        "4. **Model-Based**: Use algorithms robust to outliers (e.g., tree-based models, Huber regression)."
      ],
      "metadata": {
        "id": "zgrSMcK75VY_"
      }
    },
    {
      "cell_type": "code",
      "source": [
        "def winsorize(data, lower_percentile=1, upper_percentile=99):\n",
        "    lower_bound = np.percentile(data, lower_percentile)\n",
        "    upper_bound = np.percentile(data, upper_percentile)\n",
        "    data = np.clip(data, lower_bound, upper_bound)\n",
        "    return data\n",
        "\n",
        "for feature in numerical_features:\n",
        "    Q1 = train_set[feature].quantile(0.25)\n",
        "    Q3 = train_set[feature].quantile(0.75)\n",
        "    IQR = Q3 - Q1\n",
        "    lower_bound = Q1 - 1.5 * IQR\n",
        "    upper_bound = Q3 + 1.5 * IQR\n",
        "\n",
        "    train_set[feature] = winsorize(train_set[feature].values)\n",
        "    val_set[feature] = winsorize(val_set[feature].values)"
      ],
      "metadata": {
        "id": "CgbZ6Lv17Uf0"
      },
      "execution_count": 5,
      "outputs": []
    },
    {
      "cell_type": "markdown",
      "source": [
        "### III. Remove Duplicates\n",
        "Handling duplicate values is crucial because they can compromise data integrity, leading to inaccurate analysis and insights. Duplicate entries can bias machine learning models, causing overfitting and reducing their ability to generalize to new data. They also inflate the dataset size unnecessarily, increasing computational costs and processing times. Additionally, duplicates can distort statistical measures and lead to inconsistencies, ultimately affecting the reliability of data-driven decisions and reporting. Ensuring data quality by removing duplicates is essential for accurate, efficient, and consistent analysis."
      ],
      "metadata": {
        "id": "aO0ZEZ-s6Lu-"
      }
    },
    {
      "cell_type": "code",
      "source": [
        "train_set.drop_duplicates(inplace=True)\n",
        "val_set.drop_duplicates(inplace=True)"
      ],
      "metadata": {
        "id": "BHCkkZ-v7iF8"
      },
      "execution_count": 6,
      "outputs": []
    },
    {
      "cell_type": "markdown",
      "source": [
        "### IV. Feature Engineering\n",
        "\n",
        "**Feature engineering** involves creating new features (input variables) or transforming existing ones to improve the performance of machine learning models. Feature engineering aims to enhance the model's ability to learn patterns and make accurate predictions from the data. It's often said that \"good features make good models.\"\n",
        "\n",
        "1. **Feature Selection:** Feature engineering can involve selecting the most relevant and informative features from the dataset. Removing irrelevant or redundant features not only simplifies the model but also reduces the risk of overfitting.\n",
        "\n",
        "2. **Creating New Features:** Sometimes, the existing features may not capture the underlying patterns effectively. In such cases, engineers create new features that provide additional information. For example:\n",
        "   \n",
        "   - **Polynomial Features:** Engineers may create new features by taking the square, cube, or other higher-order terms of existing numerical features. This can help capture nonlinear relationships.\n",
        "   \n",
        "   - **Interaction Features:** Interaction features are created by combining two or more existing features. For example, if you have features \"length\" and \"width,\" you can create an \"area\" feature by multiplying them.\n",
        "\n",
        "3. **Binning or Discretization:** Continuous numerical features can be divided into bins or categories. For instance, age values can be grouped into bins like \"child,\" \"adult,\" and \"senior.\"\n",
        "\n",
        "4. **Domain-Specific Feature Engineering:** Depending on the domain and problem, engineers may create domain-specific features. For example, in fraud detection, features related to transaction history and user behavior may be engineered to identify anomalies.\n",
        "\n",
        "Feature engineering is both a creative and iterative process. It requires a deep understanding of the data, domain knowledge, and experimentation to determine which features will enhance the model's predictive power."
      ],
      "metadata": {
        "id": "eycPASmMLfHa"
      }
    },
    {
      "cell_type": "markdown",
      "source": [],
      "metadata": {
        "id": "Dy2hQG89Z6gj"
      }
    },
    {
      "cell_type": "code",
      "source": [
        "# Data Redundan (Ada feature yang merepresentasikan feature ini, contoh : URLLength, HasTitle)\n",
        "# [ 'FILENAME','TLD', 'URL', 'Domain', 'Title']\n",
        "\n",
        "# Data Jelek (Tidak make sense / tidak relevan)\n",
        "# ['IsDomainIP', 'HasObfuscation', 'NoOfObfuscatedChar', 'ObfuscationRatio', 'NoOfDegitsInURL',\n",
        "# 'DegitRatioInURL', 'NoOfEqualsInURL', 'NoOfQMarkInURL', 'NoOfAmpersandInURL', 'NoOfURLRedirect',\n",
        "# 'NoOfSelfRedirect', 'NoOfPopup', 'NoOfiFrame', 'NoOfEmptyRef', 'DomainTitleMatchScore', 'URLTitleMatchScore']\n",
        "\n",
        "dropped_features = ['FILENAME','TLD', 'URL', 'Domain', 'Title', 'IsDomainIP', 'HasObfuscation', 'NoOfObfuscatedChar', 'ObfuscationRatio', 'NoOfDegitsInURL',\n",
        "                          'DegitRatioInURL', 'NoOfEqualsInURL', 'NoOfQMarkInURL', 'NoOfAmpersandInURL', 'NoOfURLRedirect',\n",
        "                          'NoOfSelfRedirect', 'NoOfPopup', 'NoOfiFrame', 'NoOfEmptyRef', 'DomainTitleMatchScore', 'URLTitleMatchScore']\n",
        "\n",
        "\n",
        "class DropFeatures(BaseEstimator, TransformerMixin):\n",
        "    def __init__(self, features_to_drop):\n",
        "        self.features_to_drop = features_to_drop\n",
        "\n",
        "    def fit(self, X, y=None):\n",
        "        return self\n",
        "\n",
        "    def transform(self, X):\n",
        "        return X.drop(columns=self.features_to_drop, axis=1)\n",
        "\n",
        "\n",
        "numerical_features = [\n",
        "    'URLLength', 'DomainLength', 'CharContinuationRate', 'TLDLegitimateProb',\n",
        "    'URLCharProb', 'TLDLength', 'NoOfSubDomain', 'NoOfLettersInURL',\n",
        "    'LetterRatioInURL', 'NoOfOtherSpecialCharsInURL', 'SpacialCharRatioInURL',\n",
        "    'LineOfCode', 'LargestLineLength', 'NoOfImage', 'NoOfCSS', 'NoOfJS',\n",
        "    'NoOfSelfRef', 'NoOfExternalRef'\n",
        "]\n",
        "\n",
        "features_to_discretize = [\n",
        "    'URLLength', 'DomainLength', 'LineOfCode', 'LargestLineLength',\n",
        "    'NoOfLettersInURL', 'NoOfOtherSpecialCharsInURL', 'NoOfImage',\n",
        "    'NoOfCSS', 'NoOfJS', 'NoOfSelfRef', 'NoOfExternalRef'\n",
        "]\n",
        "\n",
        "numerical_features = [feature for feature in numerical_features if feature not in features_to_discretize]\n",
        "\n",
        "categorical_features = [feature + '_Category' for feature in features_to_discretize]\n",
        "\n",
        "class Discretizer(BaseEstimator, TransformerMixin):\n",
        "    def __init__(self, features_to_discretize, n_bins=3, labels=['Low', 'Medium', 'High']):\n",
        "        self.features_to_discretize = features_to_discretize\n",
        "        self.n_bins = n_bins\n",
        "        self.labels = labels\n",
        "\n",
        "    def fit(self, X, y=None):\n",
        "        return self\n",
        "\n",
        "    def transform(self, X):\n",
        "        X_copy = X.copy()\n",
        "        for feature in self.features_to_discretize:\n",
        "            X_copy[feature + '_Category'] = pd.cut(X_copy[feature], bins=self.n_bins, labels=self.labels)\n",
        "        X_copy = X_copy.drop(columns=self.features_to_discretize)\n",
        "        return X_copy"
      ],
      "metadata": {
        "id": "UoXEV6wkLfHa"
      },
      "execution_count": 7,
      "outputs": []
    },
    {
      "cell_type": "markdown",
      "source": [
        "## B. Data Preprocessing\n",
        "\n",
        "**Data preprocessing** is a broader step that encompasses both data cleaning and additional transformations to make the data suitable for machine learning algorithms. Its primary goals are:\n",
        "\n",
        "1. **Feature Scaling:** Ensure that numerical features have similar scales. Common techniques include Min-Max scaling (scaling to a specific range) or standardization (mean-centered, unit variance).\n",
        "\n",
        "2. **Encoding Categorical Variables:** Machine learning models typically work with numerical data, so categorical variables need to be encoded. This can be done using one-hot encoding, label encoding, or more advanced methods like target encoding.\n",
        "\n",
        "3. **Handling Imbalanced Classes:** If dealing with imbalanced classes in a binary classification task, apply techniques such as oversampling, undersampling, or using different evaluation metrics to address class imbalance.\n",
        "\n",
        "4. **Dimensionality Reduction:** Reduce the number of features using techniques like Principal Component Analysis (PCA) or feature selection to simplify the model and potentially improve its performance.\n",
        "\n",
        "5. **Normalization:** Normalize data to achieve a standard distribution. This is particularly important for algorithms that assume normally distributed data."
      ],
      "metadata": {
        "id": "xw11_49xLfHb"
      }
    },
    {
      "cell_type": "markdown",
      "source": [
        "### Notes on Preprocessing processes\n",
        "\n",
        "It is advised to create functions or classes that have the same/similar type of inputs and outputs, so you can add, remove, or swap the order of the processes easily. You can implement the functions or classes by yourself\n",
        "\n",
        "or\n",
        "\n",
        "use `sklearn` library. To create a new preprocessing component in `sklearn`, implement a corresponding class that includes:\n",
        "1. Inheritance to `BaseEstimator` and `TransformerMixin`\n",
        "2. The method `fit`\n",
        "3. The method `transform`"
      ],
      "metadata": {
        "id": "rVyVnA1hLfHd"
      }
    },
    {
      "cell_type": "markdown",
      "source": [
        "### I. Feature Scaling\n",
        "\n",
        "**Feature scaling** is a preprocessing technique used in machine learning to standardize the range of independent variables or features of data. The primary goal of feature scaling is to ensure that all features contribute equally to the training process and that machine learning algorithms can work effectively with the data.\n",
        "\n",
        "Here are the main reasons why feature scaling is important:\n",
        "\n",
        "1. **Algorithm Sensitivity:** Many machine learning algorithms are sensitive to the scale of input features. If the scales of features are significantly different, some algorithms may perform poorly or take much longer to converge.\n",
        "\n",
        "2. **Distance-Based Algorithms:** Algorithms that rely on distances or similarities between data points, such as k-nearest neighbors (KNN) and support vector machines (SVM), can be influenced by feature scales. Features with larger scales may dominate the distance calculations.\n",
        "\n",
        "3. **Regularization:** Regularization techniques, like L1 (Lasso) and L2 (Ridge) regularization, add penalty terms based on feature coefficients. Scaling ensures that all features are treated equally in the regularization process.\n",
        "\n",
        "Common methods for feature scaling include:\n",
        "\n",
        "1. **Min-Max Scaling (Normalization):** This method scales features to a specific range, typically [0, 1]. It's done using the following formula:\n",
        "\n",
        "   $$X' = \\frac{X - X_{min}}{X_{max} - X_{min}}$$\n",
        "\n",
        "   - Here, $X$ is the original feature value, $X_{min}$ is the minimum value of the feature, and $X_{max}$ is the maximum value of the feature.  \n",
        "<br />\n",
        "<br />\n",
        "2. **Standardization (Z-score Scaling):** This method scales features to have a mean (average) of 0 and a standard deviation of 1. It's done using the following formula:\n",
        "\n",
        "   $$X' = \\frac{X - \\mu}{\\sigma}$$\n",
        "\n",
        "   - $X$ is the original feature value, $\\mu$ is the mean of the feature, and $\\sigma$ is the standard deviation of the feature.  \n",
        "<br />\n",
        "<br />\n",
        "3. **Robust Scaling:** Robust scaling is a method that scales features to the interquartile range (IQR) and is less affected by outliers. It's calculated as:\n",
        "\n",
        "   $$X' = \\frac{X - Q1}{Q3 - Q1}$$\n",
        "\n",
        "   - $X$ is the original feature value, $Q1$ is the first quartile (25th percentile), and $Q3$ is the third quartile (75th percentile) of the feature.  \n",
        "<br />\n",
        "<br />\n",
        "4. **Log Transformation:** In cases where data is highly skewed or has a heavy-tailed distribution, taking the logarithm of the feature values can help stabilize the variance and improve scaling.\n",
        "\n",
        "The choice of scaling method depends on the characteristics of your data and the requirements of your machine learning algorithm. **Min-max scaling and standardization are the most commonly used techniques and work well for many datasets.**\n",
        "\n",
        "Scaling should be applied separately to each training and test set to prevent data leakage from the test set into the training set. Additionally, **some algorithms may not require feature scaling, particularly tree-based models.**"
      ],
      "metadata": {
        "id": "WhCgOl4xLfHb"
      }
    },
    {
      "cell_type": "code",
      "source": [
        "class FeatureScaler(BaseEstimator, TransformerMixin):\n",
        "    def __init__(self, numerical_features):\n",
        "        self.numerical_features = numerical_features\n",
        "        self.scaler = StandardScaler()\n",
        "\n",
        "    def fit(self, X, y=None):\n",
        "        self.scaler.fit(X[self.numerical_features])\n",
        "        return self\n",
        "\n",
        "    def transform(self, X):\n",
        "        X_scaled = X.copy()\n",
        "        X_scaled[self.numerical_features] = self.scaler.transform(X_scaled[self.numerical_features])\n",
        "        return X_scaled"
      ],
      "metadata": {
        "id": "COef9EbCLfHb"
      },
      "execution_count": 8,
      "outputs": []
    },
    {
      "cell_type": "markdown",
      "source": [
        "### II. Feature Encoding\n",
        "\n",
        "**Feature encoding**, also known as **categorical encoding**, is the process of converting categorical data (non-numeric data) into a numerical format so that it can be used as input for machine learning algorithms. Most machine learning models require numerical data for training and prediction, so feature encoding is a critical step in data preprocessing.\n",
        "\n",
        "Categorical data can take various forms, including:\n",
        "\n",
        "1. **Nominal Data:** Categories with no intrinsic order, like colors or country names.  \n",
        "\n",
        "2. **Ordinal Data:** Categories with a meaningful order but not necessarily equidistant, like education levels (e.g., \"high school,\" \"bachelor's,\" \"master's\").\n",
        "\n",
        "There are several common methods for encoding categorical data:\n",
        "\n",
        "1. **Label Encoding:**\n",
        "\n",
        "   - Label encoding assigns a unique integer to each category in a feature.\n",
        "   - It's suitable for ordinal data where there's a clear order among categories.\n",
        "   - For example, if you have an \"education\" feature with values \"high school,\" \"bachelor's,\" and \"master's,\" you can encode them as 0, 1, and 2, respectively.\n",
        "<br />\n",
        "<br />\n",
        "2. **One-Hot Encoding:**\n",
        "\n",
        "   - One-hot encoding creates a binary (0 or 1) column for each category in a nominal feature.\n",
        "   - It's suitable for nominal data where there's no inherent order among categories.\n",
        "   - Each category becomes a new feature, and the presence (1) or absence (0) of a category is indicated for each row.\n",
        "<br />\n",
        "<br />\n",
        "3. **Target Encoding (Mean Encoding):**\n",
        "\n",
        "   - Target encoding replaces each category with the mean of the target variable for that category.\n",
        "   - It's often used for classification problems."
      ],
      "metadata": {
        "id": "f_Lh-4JwLfHc"
      }
    },
    {
      "cell_type": "code",
      "source": [
        "class FeatureEncoder(BaseEstimator, TransformerMixin):\n",
        "    def __init__(self, categorical_features):\n",
        "        self.categorical_features = categorical_features\n",
        "        self.encoder = OneHotEncoder(sparse_output=False, handle_unknown='ignore')\n",
        "\n",
        "    def fit(self, X, y=None):\n",
        "        self.encoder.fit(X[self.categorical_features])\n",
        "        self.encoded_feature_names = self.encoder.get_feature_names_out(self.categorical_features)\n",
        "        return self\n",
        "\n",
        "    def transform(self, X):\n",
        "        X_encoded = X.copy()\n",
        "        encoded_data = self.encoder.transform(X_encoded[self.categorical_features])\n",
        "        encoded_df = pd.DataFrame(encoded_data, columns=self.encoded_feature_names, index=X_encoded.index)\n",
        "        X_encoded = X_encoded.drop(columns=self.categorical_features)\n",
        "        X_encoded = pd.concat([X_encoded, encoded_df], axis=1)\n",
        "        return X_encoded"
      ],
      "metadata": {
        "id": "psElSUugLfHc"
      },
      "execution_count": 9,
      "outputs": []
    },
    {
      "cell_type": "markdown",
      "source": [
        "### III. Handling Imbalanced Dataset\n",
        "\n",
        "**Handling imbalanced datasets** is important because imbalanced data can lead to several issues that negatively impact the performance and reliability of machine learning models. Here are some key reasons:\n",
        "\n",
        "1. **Biased Model Performance**:\n",
        "\n",
        " - Models trained on imbalanced data tend to be biased towards the majority class, leading to poor performance on the minority class. This can result in misleading accuracy metrics.\n",
        "\n",
        "2. **Misleading Accuracy**:\n",
        "\n",
        " - High overall accuracy can be misleading in imbalanced datasets. For example, if 95% of the data belongs to one class, a model that always predicts the majority class will have 95% accuracy but will fail to identify the minority class.\n",
        "\n",
        "3. **Poor Generalization**:\n",
        "\n",
        " - Models trained on imbalanced data may not generalize well to new, unseen data, especially if the minority class is underrepresented.\n",
        "\n",
        "\n",
        "Some methods to handle imbalanced datasets:\n",
        "1. **Resampling Methods**:\n",
        "\n",
        " - Oversampling: Increase the number of instances in the minority class by duplicating or generating synthetic samples (e.g., SMOTE).\n",
        " - Undersampling: Reduce the number of instances in the majority class to balance the dataset.\n",
        "\n",
        "2. **Evaluation Metrics**:\n",
        "\n",
        " - Use appropriate evaluation metrics such as precision, recall, F1-score, ROC-AUC, and confusion matrix instead of accuracy to better assess model performance on imbalanced data.\n",
        "\n",
        "3. **Algorithmic Approaches**:\n",
        "\n",
        " - Use algorithms that are designed to handle imbalanced data, such as decision trees, random forests, or ensemble methods.\n",
        " - Adjust class weights in algorithms to give more importance to the minority class."
      ],
      "metadata": {
        "id": "jKQO9wtB8Pc0"
      }
    },
    {
      "cell_type": "code",
      "source": [
        "class ImbalanceHandler(BaseEstimator, TransformerMixin):\n",
        "    def __init__(self):\n",
        "        self.smote = SMOTE(random_state=42)\n",
        "\n",
        "    def fit(self, X, y):\n",
        "        self.smote.fit_resample(X, y)\n",
        "        return self\n",
        "\n",
        "    def transform(self, X):\n",
        "        return X"
      ],
      "metadata": {
        "id": "u2BQd2XJ9W1i"
      },
      "execution_count": 10,
      "outputs": []
    },
    {
      "cell_type": "markdown",
      "source": [
        "\n",
        "# 3. Compile Preprocessing Pipeline\n",
        "\n",
        "All of the preprocessing classes or functions defined earlier will be compiled in this step."
      ],
      "metadata": {
        "id": "-ctVzt5DLfHd"
      }
    },
    {
      "cell_type": "markdown",
      "source": [
        "If you use sklearn to create preprocessing classes, you can list your preprocessing classes in the Pipeline object sequentially, and then fit and transform your data."
      ],
      "metadata": {
        "id": "S_ZlncSVjJG6"
      }
    },
    {
      "cell_type": "code",
      "source": [
        "# pipe = Pipeline([(\"imputer\", FeatureImputer()),\n",
        "#                  (\"featurecreator\", FeatureCreator()),\n",
        "#                  (\"scaler\", FeatureScaler()),\n",
        "#                  (\"encoder\", FeatureEncoder())])\n",
        "\n",
        "# train_set = pipe.fit_transform(train_set)\n",
        "# val_set = pipe.transform(val_set)\n",
        "\n",
        "preprocessing_pipeline = Pipeline([\n",
        "    ('drop_features', DropFeatures(dropped_features)),\n",
        "    ('discretizer', Discretizer(features_to_discretize)),\n",
        "    ('scaler', FeatureScaler(numerical_features)),\n",
        "    ('encoder', FeatureEncoder(categorical_features)),\n",
        "    ('imbalance_handler', ImbalanceHandler()),\n",
        "])"
      ],
      "metadata": {
        "id": "jHraoW_7LfHd"
      },
      "execution_count": 11,
      "outputs": []
    },
    {
      "cell_type": "code",
      "source": [
        "X_train = train_set.drop(columns=['id', 'label'])\n",
        "y_train = train_set['label']\n",
        "\n",
        "X_val = val_set.drop(columns=['id','label'])\n",
        "y_val = val_set['label']\n",
        "\n",
        "X_train = preprocessing_pipeline.fit_transform(X_train, y_train)\n",
        "X_val = preprocessing_pipeline.transform(X_val)"
      ],
      "metadata": {
        "id": "7OoZ3oXEj2CW",
        "colab": {
          "base_uri": "https://localhost:8080/"
        },
        "outputId": "c6397656-2eb1-492f-8b2a-9cdd67d1ae2f",
        "collapsed": true
      },
      "execution_count": 12,
      "outputs": [
        {
          "output_type": "stream",
          "name": "stderr",
          "text": [
            "/usr/local/lib/python3.10/dist-packages/sklearn/base.py:474: FutureWarning: `BaseEstimator._validate_data` is deprecated in 1.6 and will be removed in 1.7. Use `sklearn.utils.validation.validate_data` instead. This function becomes public and is part of the scikit-learn developer API.\n",
            "  warnings.warn(\n",
            "/usr/local/lib/python3.10/dist-packages/sklearn/utils/_tags.py:354: FutureWarning: The SMOTE or classes from which it inherits use `_get_tags` and `_more_tags`. Please define the `__sklearn_tags__` method, or inherit from `sklearn.base.BaseEstimator` and/or other appropriate mixins such as `sklearn.base.TransformerMixin`, `sklearn.base.ClassifierMixin`, `sklearn.base.RegressorMixin`, and `sklearn.base.OutlierMixin`. From scikit-learn 1.7, not defining `__sklearn_tags__` will raise an error.\n",
            "  warnings.warn(\n",
            "/usr/local/lib/python3.10/dist-packages/sklearn/pipeline.py:62: FutureWarning: This Pipeline instance is not fitted yet. Call 'fit' with appropriate arguments before using other methods such as transform, predict, etc. This will raise an error in 1.8 instead of the current warning.\n",
            "  warnings.warn(\n"
          ]
        }
      ]
    },
    {
      "cell_type": "markdown",
      "source": [
        "# 4. Modeling and Validation\n",
        "\n",
        "Modelling is the process of building your own machine learning models to solve specific problems, or in this assignment context, predicting the target feature `label`. Validation is the process of evaluating your trained model using the validation set or cross-validation method and providing some metrics that can help you decide what to do in the next iteration of development."
      ],
      "metadata": {
        "id": "9A3adbZXLfHe"
      }
    },
    {
      "cell_type": "code",
      "source": [
        "# Model membutuhkan numpy array sebagai input\n",
        "X_train = X_train.to_numpy()\n",
        "y_train = y_train.to_numpy()\n",
        "X_val = X_val.to_numpy()\n",
        "y_val = y_val.to_numpy()"
      ],
      "metadata": {
        "id": "RdSoOzuiAYcD"
      },
      "execution_count": 13,
      "outputs": []
    },
    {
      "cell_type": "markdown",
      "source": [
        "## A. KNN"
      ],
      "metadata": {
        "id": "ZnhMNbBILfHf"
      }
    },
    {
      "cell_type": "code",
      "source": [
        "class KNN:\n",
        "    def __init__(self, k=3, distance_metric='euclidean', p=3):\n",
        "        self.k = k\n",
        "        self.distance_metric = distance_metric\n",
        "        self.p = p\n",
        "\n",
        "    def fit(self, X, y):\n",
        "        self.X_train = X\n",
        "        self.y_train = y\n",
        "\n",
        "    def predict(self, X):\n",
        "        predictions = [self._predict(x) for x in X]\n",
        "        return predictions\n",
        "\n",
        "    def _predict(self, x):\n",
        "        distances = [self._compute_distance(x, x_train) for x_train in self.X_train]\n",
        "        k_indices = np.argsort(distances)[:self.k]\n",
        "        k_nearest_labels = [self.y_train[i] for i in k_indices]\n",
        "        most_common = np.bincount(k_nearest_labels).argmax()\n",
        "        return most_common\n",
        "\n",
        "    def _compute_distance(self, x1, x2):\n",
        "        if self.distance_metric == 'euclidean':\n",
        "            return np.sqrt(np.sum((x1 - x2) ** 2))\n",
        "        elif self.distance_metric == 'manhattan':\n",
        "            return np.sum(np.abs(x1 - x2))\n",
        "        elif self.distance_metric == 'minkowski':\n",
        "            return np.sum(np.abs(x1 - x2) ** self.p) ** (1 / self.p)\n",
        "        else:\n",
        "            raise ValueError(f\"Distance metric salah: {self.distance_metric}\")"
      ],
      "metadata": {
        "id": "KV6ICmFmlqjk"
      },
      "execution_count": 14,
      "outputs": []
    },
    {
      "cell_type": "code",
      "source": [
        "# Inisialisasi model KNN\n",
        "knn_model = KNN(k=3, distance_metric='euclidean')\n",
        "\n",
        "knn_model.fit(X_train, y_train)"
      ],
      "metadata": {
        "id": "W-NcUoEtAiq-"
      },
      "execution_count": 15,
      "outputs": []
    },
    {
      "cell_type": "code",
      "source": [
        "# Lakukan Save model KNN (Opsional)\n",
        "with open('knn_model.pkl', 'wb') as file:\n",
        "    pickle.dump(knn_model, file)"
      ],
      "metadata": {
        "id": "0__AzfRlApWJ"
      },
      "execution_count": 16,
      "outputs": []
    },
    {
      "cell_type": "code",
      "source": [
        "# Lakukan Load model KNN (Opsional)\n",
        "with open('knn_model.pkl', 'rb') as file:\n",
        "    knn_model_loaded = pickle.load(file)"
      ],
      "metadata": {
        "id": "QNylpeb3Arbj"
      },
      "execution_count": 17,
      "outputs": []
    },
    {
      "cell_type": "code",
      "source": [
        "# Predict X_val\n",
        "knn_predictions = knn_model.predict(X_val)"
      ],
      "metadata": {
        "id": "YenZYDEYBStN"
      },
      "execution_count": 18,
      "outputs": []
    },
    {
      "cell_type": "code",
      "source": [
        "\n",
        "# Hitung akurasi dari prediction\n",
        "accuracy = accuracy_score(y_val, knn_predictions)\n",
        "print(f\"Akurasi KNN: {accuracy}\")"
      ],
      "metadata": {
        "id": "8o8fDp_7BFmp",
        "colab": {
          "base_uri": "https://localhost:8080/"
        },
        "outputId": "edd011b0-99d2-4760-847d-264df7657a32"
      },
      "execution_count": 19,
      "outputs": [
        {
          "output_type": "stream",
          "name": "stdout",
          "text": [
            "Akurasi KNN: 0.9716312056737588\n"
          ]
        }
      ]
    },
    {
      "cell_type": "code",
      "source": [
        "from sklearn.neighbors import KNeighborsClassifier\n",
        "\n",
        "knn_sckit_model = KNeighborsClassifier(n_neighbors=10)\n",
        "knn_sckit_model.fit(X_train, y_train)\n",
        "knn_sckit_predictions = knn_sckit_model.predict(X_val)\n",
        "accuracy = accuracy_score(y_val, knn_sckit_predictions)\n",
        "\n",
        "print(f\"Akurasi KNN SCKit: {accuracy}\")"
      ],
      "metadata": {
        "colab": {
          "base_uri": "https://localhost:8080/"
        },
        "id": "9jC7is9MHT5n",
        "outputId": "c88cafad-1a8a-4727-8e52-a092e0ebb696"
      },
      "execution_count": 20,
      "outputs": [
        {
          "output_type": "stream",
          "name": "stdout",
          "text": [
            "Akurasi KNN SCKit: 0.9645390070921985\n"
          ]
        }
      ]
    },
    {
      "cell_type": "markdown",
      "source": [
        "## B. Naive Bayes"
      ],
      "metadata": {
        "id": "nW0bMzkDLfHf"
      }
    },
    {
      "cell_type": "code",
      "source": [
        "class NaiveBayes:\n",
        "    def __init__(self):\n",
        "        self.class_priors = {}\n",
        "        self.feature_likelihoods = {}\n",
        "        self.num_features = 0\n",
        "\n",
        "    def fit(self, X, y):\n",
        "        self.num_features = X.shape[1]\n",
        "        self.class_priors = self._calculate_class_priors(y)\n",
        "        self.feature_likelihoods = self._calculate_feature_likelihoods(X, y)\n",
        "\n",
        "    def _calculate_class_priors(self, y):\n",
        "        class_priors = {}\n",
        "        total_samples = len(y)\n",
        "        for label in set(y):\n",
        "            class_priors[label] = sum(y == label) / total_samples\n",
        "        return class_priors\n",
        "\n",
        "    def _calculate_feature_likelihoods(self, X, y):\n",
        "        likelihoods = {}\n",
        "        for label in set(y):\n",
        "            X_label = X[y == label]\n",
        "            likelihoods[label] = {\n",
        "                feature_index: (X_label[:, feature_index].mean(), X_label[:, feature_index].std())\n",
        "                for feature_index in range(self.num_features)\n",
        "            }\n",
        "        return likelihoods\n",
        "\n",
        "    def predict(self, X):\n",
        "        predictions = []\n",
        "        for x in X:\n",
        "            posteriors = {}\n",
        "            for label in self.class_priors:\n",
        "                prior = self.class_priors[label]\n",
        "                likelihood = self._calculate_likelihood(x, label)\n",
        "                posteriors[label] = prior * likelihood\n",
        "            predictions.append(int(max(posteriors, key=posteriors.get)))\n",
        "        return predictions\n",
        "\n",
        "    def _calculate_likelihood(self, x, label):\n",
        "        likelihood = 1\n",
        "        for feature_index in range(self.num_features):\n",
        "            mean, std = self.feature_likelihoods[label][feature_index]\n",
        "            likelihood *= self._gaussian_probability(x[feature_index], mean, std)\n",
        "        return likelihood\n",
        "\n",
        "    def _gaussian_probability(self, x, mean, std):\n",
        "        if std == 0:\n",
        "            return 1 if x == mean else 0\n",
        "        exponent = np.exp(-((x - mean) ** 2 / (2 * std ** 2)))\n",
        "        return (1 / (np.sqrt(2 * np.pi) * std)) * exponent\n"
      ],
      "metadata": {
        "id": "uFrIlEsMFYZi"
      },
      "execution_count": 14,
      "outputs": []
    },
    {
      "cell_type": "code",
      "source": [
        "# Inisialisasi model Naive Bayes\n",
        "nb_model = NaiveBayes()\n",
        "\n",
        "nb_model.fit(X_train, y_train)"
      ],
      "metadata": {
        "id": "xQpdn9zOBejH"
      },
      "execution_count": 15,
      "outputs": []
    },
    {
      "cell_type": "code",
      "source": [
        "# Save model Naive Bayes (Opsional)\n",
        "with open('naive_bayes_model.pkl', 'wb') as file:\n",
        "    pickle.dump(nb_model, file)\n"
      ],
      "metadata": {
        "id": "AL_ZK_47Bqgl"
      },
      "execution_count": 16,
      "outputs": []
    },
    {
      "cell_type": "code",
      "source": [
        "# Load model Naive Bayes (Opsional)\n",
        "with open('naive_bayes_model.pkl', 'rb') as file:\n",
        "    nb_model_loaded = pickle.load(file)"
      ],
      "metadata": {
        "id": "wUh6x7A1BuYm"
      },
      "execution_count": 17,
      "outputs": []
    },
    {
      "cell_type": "code",
      "source": [
        "# Predict X_val\n",
        "nb_predictions = nb_model.predict(X_val)"
      ],
      "metadata": {
        "id": "d7o5uMQiBxNC"
      },
      "execution_count": 18,
      "outputs": []
    },
    {
      "cell_type": "code",
      "source": [
        "# Akurasi nb_predictions\n",
        "accuracy = accuracy_score(y_val, nb_predictions)\n",
        "print(f\"Akurasi Naive Bayes: {accuracy}\")"
      ],
      "metadata": {
        "id": "yftdKgskB2aB",
        "colab": {
          "base_uri": "https://localhost:8080/"
        },
        "outputId": "e62ee09e-677a-448c-8b57-895bea1cc71e"
      },
      "execution_count": 21,
      "outputs": [
        {
          "output_type": "stream",
          "name": "stdout",
          "text": [
            "Akurasi Naive Bayes: 0.8745771161995656\n"
          ]
        }
      ]
    },
    {
      "cell_type": "code",
      "source": [
        "# Gaussian Naive Bayes with Scikit-learn\n",
        "from sklearn.naive_bayes import GaussianNB\n",
        "\n",
        "nb_sckit_model = GaussianNB()\n",
        "nb_sckit_model.fit(X_train, y_train)\n",
        "nb_sckit_predictions = nb_sckit_model.predict(X_val)\n",
        "accuracy = accuracy_score(y_val, nb_sckit_predictions)\n",
        "\n",
        "print(f\"Akurasi Naive Bayes SCKit: {accuracy}\")"
      ],
      "metadata": {
        "id": "NaUbZZxUD0Cp",
        "colab": {
          "base_uri": "https://localhost:8080/"
        },
        "outputId": "9da86519-e68c-4cfc-8393-2378637b784a"
      },
      "execution_count": 22,
      "outputs": [
        {
          "output_type": "stream",
          "name": "stdout",
          "text": [
            "Akurasi Naive Bayes SCKit: 0.6616217371176241\n"
          ]
        }
      ]
    },
    {
      "cell_type": "markdown",
      "source": [
        "## C. Improvements (Optional)\n",
        "\n",
        "- **Visualize the model evaluation result**\n",
        "\n",
        "This will help you to understand the details more clearly about your model's performance. From the visualization, you can see clearly if your model is leaning towards a class than the others. (Hint: confusion matrix, ROC-AUC curve, etc.)\n",
        "\n",
        "- **Explore the hyperparameters of your models**\n",
        "\n",
        "Each models have their own hyperparameters. And each of the hyperparameter have different effects on the model behaviour. You can optimize the model performance by finding the good set of hyperparameters through a process called **hyperparameter tuning**. (Hint: Grid search, random search, bayesian optimization)\n",
        "\n",
        "- **Cross-validation**\n",
        "\n",
        "Cross-validation is a critical technique in machine learning and data science for evaluating and validating the performance of predictive models. It provides a more **robust** and **reliable** evaluation method compared to a hold-out (single train-test set) validation. Though, it requires more time and computing power because of how cross-validation works. (Hint: k-fold cross-validation, stratified k-fold cross-validation, etc.)"
      ],
      "metadata": {
        "id": "LoH2u6fOLfHh"
      }
    },
    {
      "cell_type": "code",
      "source": [
        "# Type your code here"
      ],
      "metadata": {
        "id": "pg-A54yELfHh"
      },
      "execution_count": 28,
      "outputs": []
    },
    {
      "cell_type": "markdown",
      "source": [
        "## D. Submission\n",
        "To predict the test set target feature and submit the results to the kaggle competition platform, do the following:\n",
        "1. Create a new pipeline instance identical to the first in Data Preprocessing\n",
        "2. With the pipeline, apply `fit_transform` to the original training set before splitting, then only apply `transform` to the test set.\n",
        "3. Retrain the model on the preprocessed training set\n",
        "4. Predict the test set\n",
        "5. Make sure the submission contains the `id` and `label` column.\n",
        "\n",
        "Note: Adjust step 1 and 2 to your implementation of the preprocessing step if you don't use pipeline API from `sklearn`."
      ],
      "metadata": {
        "id": "Li4l53DjLfHh"
      }
    },
    {
      "cell_type": "code",
      "source": [
        "pipe = Pipeline([\n",
        "    ('drop_features', DropFeatures(dropped_features)),\n",
        "    ('discretizer', Discretizer(features_to_discretize)),\n",
        "    ('scaler', FeatureScaler(numerical_features)),\n",
        "    ('encoder', FeatureEncoder(categorical_features)),\n",
        "    ('imbalance_handler', ImbalanceHandler()),\n",
        "])\n",
        "\n",
        "X_train = train_set.drop(columns=['id', 'label'])\n",
        "y_train = train_set['label']\n",
        "\n",
        "test_df = pd.read_csv('test.csv') # Ambil test.csv\n",
        "\n",
        "test = test_df.drop(columns=['id'])\n",
        "test_id = test_df['id']\n",
        "\n",
        "X_train = pipe.fit_transform(X_train, y_train)\n",
        "test = pipe.transform(test)"
      ],
      "metadata": {
        "id": "LeqnfWc-LfHi",
        "colab": {
          "base_uri": "https://localhost:8080/"
        },
        "outputId": "b5dff420-c32f-4433-f2d8-5f25fe07fe0e"
      },
      "execution_count": 23,
      "outputs": [
        {
          "output_type": "stream",
          "name": "stderr",
          "text": [
            "/usr/local/lib/python3.10/dist-packages/sklearn/base.py:474: FutureWarning: `BaseEstimator._validate_data` is deprecated in 1.6 and will be removed in 1.7. Use `sklearn.utils.validation.validate_data` instead. This function becomes public and is part of the scikit-learn developer API.\n",
            "  warnings.warn(\n",
            "/usr/local/lib/python3.10/dist-packages/sklearn/utils/_tags.py:354: FutureWarning: The SMOTE or classes from which it inherits use `_get_tags` and `_more_tags`. Please define the `__sklearn_tags__` method, or inherit from `sklearn.base.BaseEstimator` and/or other appropriate mixins such as `sklearn.base.TransformerMixin`, `sklearn.base.ClassifierMixin`, `sklearn.base.RegressorMixin`, and `sklearn.base.OutlierMixin`. From scikit-learn 1.7, not defining `__sklearn_tags__` will raise an error.\n",
            "  warnings.warn(\n",
            "/usr/local/lib/python3.10/dist-packages/sklearn/pipeline.py:62: FutureWarning: This Pipeline instance is not fitted yet. Call 'fit' with appropriate arguments before using other methods such as transform, predict, etc. This will raise an error in 1.8 instead of the current warning.\n",
            "  warnings.warn(\n"
          ]
        }
      ]
    },
    {
      "cell_type": "code",
      "source": [
        "X_train = X_train.to_numpy()\n",
        "y_train = y_train.to_numpy()\n",
        "test = test.to_numpy()"
      ],
      "metadata": {
        "id": "uJKfTmaECq68"
      },
      "execution_count": 24,
      "outputs": []
    },
    {
      "cell_type": "code",
      "source": [
        "knn_predict = knn_model.predict(test)\n",
        "nb_predict = nb_model.predict(test)"
      ],
      "metadata": {
        "id": "9xvPA8JtCwfa"
      },
      "execution_count": 26,
      "outputs": []
    },
    {
      "cell_type": "code",
      "source": [
        "predictions_set = pd.DataFrame({\n",
        "    'id': test_id,\n",
        "    'label': knn_predict\n",
        "})\n",
        "\n",
        "predictions_set.to_csv('submissions_knn.csv', index=False)\n",
        "\n",
        "predictions_set = pd.DataFrame({\n",
        "    'id': test_id,\n",
        "    'label': nb_predict\n",
        "})\n",
        "\n",
        "predictions_set.to_csv('submissions_nb.csv', index=False)"
      ],
      "metadata": {
        "id": "-CRi-f5Hwt7g"
      },
      "execution_count": 27,
      "outputs": []
    },
    {
      "cell_type": "markdown",
      "source": [
        "# 6. Error Analysis\n",
        "\n",
        "Based on all the process you have done until the modeling and evaluation step, write an analysis to support each steps you have taken to solve this problem. Write the analysis using the markdown block. Some questions that may help you in writing the analysis:\n",
        "\n",
        "- Does my model perform better in predicting one class than the other? If so, why is that?\n",
        "- To each models I have tried, which performs the best and what could be the reason?\n",
        "- Is it better for me to impute or drop the missing data? Why?\n",
        "- Does feature scaling help improve my model performance?\n",
        "- etc..."
      ],
      "metadata": {
        "id": "R-jXvKOpLfHi"
      }
    },
    {
      "cell_type": "markdown",
      "source": [
        "Menggunakan X_val kecil (0.001 dari dataset)\n",
        "\n",
        "### KNN\n",
        "- Hasil prediksi X_val menggunnakan model KNN scratch\n",
        "  * Akurasi KNN: 0.9716312056737588\n",
        "  * Waktu yang dibutuhkan: 2 menit\n",
        "\n",
        "- Hasil prediksi X_val menggunnakan model KNN SCKit\n",
        "  * Akurasi KNN SCKit: 0.96453900709219\n",
        "  * Waktu yang dibutuhkan: < 1 detik\n",
        "\n",
        "### Naive Bayes\n",
        "- Hasil prediksi X_val menggunnakan model nb scratch\n",
        "  * Akurasi Naive Bayes: 0.8794326241134752\n",
        "  * Waktu yang dibutuhkan: < 1 detik\n",
        "\n",
        "- Hasil prediksi X_val menggunnakan model nb SCKit\n",
        "  * Akurasi KNN SCKit: 0.9645390070921985\n",
        "  * Waktu yang dibutuhkan: < 1 detik\n",
        "\n",
        "\n",
        "Algoritma KNN meghasilkan akurasi yang lebih baik, namun memakan waktu yang jauh lebih lama dibanding algoritma Gaussian Naive Bayes"
      ],
      "metadata": {
        "id": "tWL3nEAELfHj"
      }
    }
  ]
}